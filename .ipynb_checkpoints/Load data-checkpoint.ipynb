{
 "cells": [
  {
   "cell_type": "code",
   "execution_count": 7,
   "id": "afa9884c-cbd7-4d60-a34d-b46d92623249",
   "metadata": {},
   "outputs": [],
   "source": [
    "import glob as gb\n",
    "import os\n",
    "import scipy.io\n",
    "import numpy\n",
    "from keras.preprocessing.image import ImageDataGenerator\n",
    "import tensorflow as tf\n",
    "import pandas as pd"
   ]
  },
  {
   "cell_type": "code",
   "execution_count": 2,
   "id": "33b66fda-370e-4eb3-bfc9-0d24c25285bb",
   "metadata": {},
   "outputs": [
    {
     "name": "stdout",
     "output_type": "stream",
     "text": [
      "dict_keys(['__header__', '__version__', '__globals__', 'labels'])\n"
     ]
    }
   ],
   "source": [
    "import scipy.io\n",
    "\n",
    "# اسم الملف .mat الذي تريد قراءته\n",
    "#file_path = 'path/to/your/file.mat'\n",
    "\n",
    "# قراءة الملف .mat\n",
    "mat_data = scipy.io.loadmat('imagelabels.mat')\n",
    "\n",
    "print(mat_data.keys())\n",
    "\n",
    "# الوصول إلى قيمة المتغير الذي ترغب في قراءته\n"
   ]
  },
  {
   "cell_type": "code",
   "execution_count": 3,
   "id": "3b3946c7-bdfc-432d-ad2d-24a019a054d1",
   "metadata": {},
   "outputs": [
    {
     "name": "stdout",
     "output_type": "stream",
     "text": [
      "[[77 77 77 ... 62 62 62]]\n"
     ]
    }
   ],
   "source": [
    "variable_value = mat_data['labels']\n",
    "print(variable_value)\n"
   ]
  },
  {
   "cell_type": "code",
   "execution_count": 5,
   "id": "4fd6829a-759d-4eaa-92d2-9a8645ba37f9",
   "metadata": {},
   "outputs": [],
   "source": [
    "image = gb.glob('jpg'+'/'+'*.jpg')"
   ]
  },
  {
   "cell_type": "code",
   "execution_count": 12,
   "id": "65642a10-11cb-496f-9ed1-6428da8f67dd",
   "metadata": {},
   "outputs": [],
   "source": [
    "df = pd.DataFrame({'image' : image,\n",
    "                   \n",
    "    'label': variable_value[0]})\n"
   ]
  },
  {
   "cell_type": "code",
   "execution_count": 14,
   "id": "5db1b0b4-44be-4c80-a35e-8431310d2a36",
   "metadata": {},
   "outputs": [
    {
     "data": {
      "text/html": [
       "<div>\n",
       "<style scoped>\n",
       "    .dataframe tbody tr th:only-of-type {\n",
       "        vertical-align: middle;\n",
       "    }\n",
       "\n",
       "    .dataframe tbody tr th {\n",
       "        vertical-align: top;\n",
       "    }\n",
       "\n",
       "    .dataframe thead th {\n",
       "        text-align: right;\n",
       "    }\n",
       "</style>\n",
       "<table border=\"1\" class=\"dataframe\">\n",
       "  <thead>\n",
       "    <tr style=\"text-align: right;\">\n",
       "      <th></th>\n",
       "      <th>image</th>\n",
       "      <th>label</th>\n",
       "    </tr>\n",
       "  </thead>\n",
       "  <tbody>\n",
       "    <tr>\n",
       "      <th>0</th>\n",
       "      <td>jpg\\image_00001.jpg</td>\n",
       "      <td>77</td>\n",
       "    </tr>\n",
       "    <tr>\n",
       "      <th>1</th>\n",
       "      <td>jpg\\image_00002.jpg</td>\n",
       "      <td>77</td>\n",
       "    </tr>\n",
       "    <tr>\n",
       "      <th>2</th>\n",
       "      <td>jpg\\image_00003.jpg</td>\n",
       "      <td>77</td>\n",
       "    </tr>\n",
       "    <tr>\n",
       "      <th>3</th>\n",
       "      <td>jpg\\image_00004.jpg</td>\n",
       "      <td>77</td>\n",
       "    </tr>\n",
       "    <tr>\n",
       "      <th>4</th>\n",
       "      <td>jpg\\image_00005.jpg</td>\n",
       "      <td>77</td>\n",
       "    </tr>\n",
       "    <tr>\n",
       "      <th>...</th>\n",
       "      <td>...</td>\n",
       "      <td>...</td>\n",
       "    </tr>\n",
       "    <tr>\n",
       "      <th>8184</th>\n",
       "      <td>jpg\\image_08185.jpg</td>\n",
       "      <td>62</td>\n",
       "    </tr>\n",
       "    <tr>\n",
       "      <th>8185</th>\n",
       "      <td>jpg\\image_08186.jpg</td>\n",
       "      <td>62</td>\n",
       "    </tr>\n",
       "    <tr>\n",
       "      <th>8186</th>\n",
       "      <td>jpg\\image_08187.jpg</td>\n",
       "      <td>62</td>\n",
       "    </tr>\n",
       "    <tr>\n",
       "      <th>8187</th>\n",
       "      <td>jpg\\image_08188.jpg</td>\n",
       "      <td>62</td>\n",
       "    </tr>\n",
       "    <tr>\n",
       "      <th>8188</th>\n",
       "      <td>jpg\\image_08189.jpg</td>\n",
       "      <td>62</td>\n",
       "    </tr>\n",
       "  </tbody>\n",
       "</table>\n",
       "<p>8189 rows × 2 columns</p>\n",
       "</div>"
      ],
      "text/plain": [
       "                    image  label\n",
       "0     jpg\\image_00001.jpg     77\n",
       "1     jpg\\image_00002.jpg     77\n",
       "2     jpg\\image_00003.jpg     77\n",
       "3     jpg\\image_00004.jpg     77\n",
       "4     jpg\\image_00005.jpg     77\n",
       "...                   ...    ...\n",
       "8184  jpg\\image_08185.jpg     62\n",
       "8185  jpg\\image_08186.jpg     62\n",
       "8186  jpg\\image_08187.jpg     62\n",
       "8187  jpg\\image_08188.jpg     62\n",
       "8188  jpg\\image_08189.jpg     62\n",
       "\n",
       "[8189 rows x 2 columns]"
      ]
     },
     "execution_count": 14,
     "metadata": {},
     "output_type": "execute_result"
    }
   ],
   "source": [
    "df"
   ]
  },
  {
   "cell_type": "code",
   "execution_count": 30,
   "id": "54b7361b-a9f2-4f71-aee5-7829481ed285",
   "metadata": {},
   "outputs": [],
   "source": [
    "import shutil\n",
    "\n",
    "\n",
    "# المجلد الذي سيتم نسخ الصور إليه\n",
    "destination_folder = 'class_image'\n",
    "\n",
    "# التأكد من وجود المجلد الهدف\n",
    "if not os.path.exists(destination_folder):\n",
    "    os.makedirs(destination_folder)\n",
    "\n",
    "# الحصول على قائمة الملفات في المجلد الأصلي\n",
    "\n",
    "\n",
    "# نسخ الملفات الصور إلى المجلد الهدف\n",
    "for i in range(len(df)):\n",
    "    \n",
    "    folder_name = str(df.label[i])\n",
    "    source_file = os.path.join(df.image[i])\n",
    "    folder_path = os.path.join(destination_folder, folder_name)\n",
    "    if not os.path.exists(folder_path):\n",
    "        os.makedirs(folder_path)\n",
    "    destination_file = os.path.join(folder_path ,df.image[i].split('\\\\')[1])\n",
    "    shutil.copyfile(source_file, destination_file)\n"
   ]
  },
  {
   "cell_type": "code",
   "execution_count": null,
   "id": "253b5aaa-a796-4e45-8fbe-ce852b7bbf0b",
   "metadata": {},
   "outputs": [],
   "source": [
    "image_size = (224, 224)\n",
    "train_datagen = ImageDataGenerator(\n",
    "        rescale=1./255,\n",
    "        validation_split=0.2)\n",
    "train_generator = train_datagen.flow_from_directory(\n",
    "        'class_image',\n",
    "        target_size=(150, 150),\n",
    "        batch_size=32,\n",
    "        class_mode='categorical')\n",
    "validation_generator = train_datagen.flow_from_directory(\n",
    "        'class_image',\n",
    "        target_size=(150, 150),\n",
    "        batch_size=32,\n",
    "        class_mode='categorical',\n",
    "        subset='validation')"
   ]
  },
  {
   "cell_type": "code",
   "execution_count": null,
   "id": "1ad4c99f-2b9e-4223-97e0-8e385dd8d25e",
   "metadata": {},
   "outputs": [],
   "source": []
  },
  {
   "cell_type": "code",
   "execution_count": null,
   "id": "997ae964-072a-497d-b0e3-45ce97f13282",
   "metadata": {},
   "outputs": [],
   "source": []
  },
  {
   "cell_type": "code",
   "execution_count": null,
   "id": "d79483da-c4cf-4c7e-bac7-2f08a3d3e0cd",
   "metadata": {},
   "outputs": [],
   "source": []
  },
  {
   "cell_type": "code",
   "execution_count": null,
   "id": "12e16836-8a70-4c01-a4e4-1646eff3938b",
   "metadata": {},
   "outputs": [],
   "source": []
  },
  {
   "cell_type": "code",
   "execution_count": null,
   "id": "f61dffb6-5e85-4cd1-b909-e047e08585b6",
   "metadata": {},
   "outputs": [],
   "source": []
  },
  {
   "cell_type": "code",
   "execution_count": null,
   "id": "772a12f5-600a-40dd-8ea2-a9a1c9bb4dcc",
   "metadata": {},
   "outputs": [],
   "source": []
  }
 ],
 "metadata": {
  "kernelspec": {
   "display_name": "tfg",
   "language": "python",
   "name": "tfg"
  },
  "language_info": {
   "codemirror_mode": {
    "name": "ipython",
    "version": 3
   },
   "file_extension": ".py",
   "mimetype": "text/x-python",
   "name": "python",
   "nbconvert_exporter": "python",
   "pygments_lexer": "ipython3",
   "version": "3.9.13"
  }
 },
 "nbformat": 4,
 "nbformat_minor": 5
}
